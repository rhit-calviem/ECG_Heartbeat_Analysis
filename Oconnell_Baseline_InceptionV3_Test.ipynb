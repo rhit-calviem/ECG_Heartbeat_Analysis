{
 "cells": [
  {
   "cell_type": "code",
   "execution_count": 2,
   "id": "95e72b7f",
   "metadata": {},
   "outputs": [
    {
     "name": "stderr",
     "output_type": "stream",
     "text": [
      "/home/oconnecs/env/lib/python3.11/site-packages/tqdm/auto.py:21: TqdmWarning: IProgress not found. Please update jupyter and ipywidgets. See https://ipywidgets.readthedocs.io/en/stable/user_install.html\n",
      "  from .autonotebook import tqdm as notebook_tqdm\n"
     ]
    },
    {
     "name": "stdout",
     "output_type": "stream",
     "text": [
      "Dataset downloaded successfully!\n",
      "Path to dataset files: /home/oconnecs/.cache/kagglehub/datasets/evilspirit05/ecg-analysis/versions/2\n"
     ]
    }
   ],
   "source": [
    "import torch\n",
    "import torch.nn as nn\n",
    "import torch.optim as optim\n",
    "from torch.optim.lr_scheduler import StepLR\n",
    "from torchvision import models, transforms, datasets\n",
    "from torch.utils.data import DataLoader, random_split\n",
    "from tqdm import tqdm\n",
    "import numpy as np\n",
    "from sklearn.metrics import classification_report, confusion_matrix\n",
    "import matplotlib.pyplot as plt\n",
    "import seaborn as sns\n",
    "from PIL import Image\n",
    "from torch.utils.data import Dataset, DataLoader\n",
    "from torchvision import transforms\n",
    "import os\n",
    "\n",
    "import kagglehub\n",
    "\n",
    "# Point KaggleHub to the current folder where kaggle.json is located\n",
    "os.environ[\"KAGGLE_CONFIG_DIR\"] = os.getcwd()\n",
    "\n",
    "# Download the dataset\n",
    "path = kagglehub.dataset_download(\"evilspirit05/ecg-analysis\")\n",
    "\n",
    "print(\"Dataset downloaded successfully!\")\n",
    "print(\"Path to dataset files:\", path)"
   ]
  },
  {
   "cell_type": "code",
   "execution_count": 3,
   "id": "498a3d78",
   "metadata": {},
   "outputs": [
    {
     "name": "stdout",
     "output_type": "stream",
     "text": [
      "Folder: /home/oconnecs/.cache/kagglehub/datasets/evilspirit05/ecg-analysis/versions/2\n",
      "  Subfolders: ['ECG_DATA']\n",
      "  Files: []\n"
     ]
    }
   ],
   "source": [
    "# List the contents of the dataset root folder\n",
    "for root, dirs, files in os.walk(path):\n",
    "    print(f\"Folder: {root}\")\n",
    "    print(f\"  Subfolders: {dirs[:5]}\")\n",
    "    print(f\"  Files: {files[:5]}\")\n",
    "    break  # remove 'break' if you want to see full structure"
   ]
  },
  {
   "cell_type": "code",
   "execution_count": 4,
   "id": "83b9192c",
   "metadata": {},
   "outputs": [
    {
     "name": "stdout",
     "output_type": "stream",
     "text": [
      "Using device: cuda\n"
     ]
    }
   ],
   "source": [
    "# Device setup\n",
    "device = torch.device('cuda' if torch.cuda.is_available() else 'cpu')\n",
    "print(\"Using device:\", device)"
   ]
  },
  {
   "cell_type": "code",
   "execution_count": 5,
   "id": "f00dc65d",
   "metadata": {},
   "outputs": [],
   "source": [
    "# Transformations (InceptionV3 requires 299x299 input)\n",
    "train_transform = transforms.Compose([\n",
    "    transforms.Resize((299, 299)),\n",
    "    transforms.RandomHorizontalFlip(),\n",
    "    transforms.RandomRotation(10),\n",
    "    transforms.ToTensor(),\n",
    "    transforms.Normalize(mean=[0.485, 0.456, 0.406],\n",
    "                         std=[0.229, 0.224, 0.225])\n",
    "])\n",
    "\n",
    "test_transform = transforms.Compose([\n",
    "    transforms.Resize((299, 299)),\n",
    "    transforms.ToTensor(),\n",
    "    transforms.Normalize(mean=[0.485, 0.456, 0.406],\n",
    "                         std=[0.229, 0.224, 0.225])\n",
    "])"
   ]
  },
  {
   "cell_type": "code",
   "execution_count": 6,
   "id": "4856176e",
   "metadata": {},
   "outputs": [],
   "source": [
    "# Dataset loading\n",
    "data_dir = path\n",
    "\n",
    "class ECGDataset(Dataset):\n",
    "    def __init__(self, root_dir, transform=None):\n",
    "        self.image_paths = []\n",
    "        self.labels = []\n",
    "        self.transform = transform\n",
    "\n",
    "        class_map = {\n",
    "            \"History of MI\": 0,\n",
    "            \"abnormal heartbeat\": 1,\n",
    "            \"Myocardial Infarction\": 2,\n",
    "            \"Normal Person\": 3\n",
    "        }\n",
    "\n",
    "        for class_name, label in class_map.items():\n",
    "            for subdir, _, files in os.walk(root_dir):\n",
    "                if class_name in subdir:\n",
    "                    for file in files:\n",
    "                        if file.lower().endswith(('.jpg', '.png', '.jpeg')):\n",
    "                            self.image_paths.append(os.path.join(subdir, file))\n",
    "                            self.labels.append(label)\n",
    "\n",
    "    def __len__(self):\n",
    "        return len(self.image_paths)\n",
    "\n",
    "    def __getitem__(self, idx):\n",
    "        img_path = self.image_paths[idx]\n",
    "        label = self.labels[idx]\n",
    "        image = Image.open(img_path).convert(\"RGB\")\n",
    "\n",
    "        if self.transform:\n",
    "            image = self.transform(image)\n",
    "        return image, label\n",
    "\n",
    "# Example usage:\n",
    "train_dir = \"/home/oconnecs/.cache/kagglehub/datasets/evilspirit05/ecg-analysis/versions/2/ECG_DATA/train\"\n",
    "test_dir = \"/home/oconnecs/.cache/kagglehub/datasets/evilspirit05/ecg-analysis/versions/2/ECG_DATA/test\"\n",
    "\n",
    "transform = transforms.Compose([\n",
    "    transforms.Resize((299, 299)),\n",
    "    transforms.ToTensor()\n",
    "])"
   ]
  },
  {
   "cell_type": "code",
   "execution_count": 14,
   "id": "aca6c26b",
   "metadata": {},
   "outputs": [
    {
     "name": "stdout",
     "output_type": "stream",
     "text": [
      "Train size: 2418\n",
      "Validation size: 605\n",
      "Test size: 928\n"
     ]
    }
   ],
   "source": [
    "# Load datasets\n",
    "train_dataset = ECGDataset(train_dir, transform=transform)\n",
    "test_dataset = ECGDataset(test_dir, transform=transform)\n",
    "\n",
    "# Split train into train/val (80/20)\n",
    "train_size = int(0.8 * len(train_dataset))\n",
    "val_size = len(train_dataset) - train_size\n",
    "train_set, val_set = random_split(train_dataset, [train_size, val_size])\n",
    "\n",
    "# Dataloaders\n",
    "train_loader = DataLoader(train_set, batch_size=16, shuffle=True, num_workers=2)\n",
    "val_loader = DataLoader(val_set, batch_size=16, shuffle=False, num_workers=2)\n",
    "test_loader = DataLoader(test_dataset, batch_size=16, shuffle=False, num_workers=2)\n",
    "\n",
    "print(f\"Train size: {len(train_set)}\")\n",
    "print(f\"Validation size: {len(val_set)}\")\n",
    "print(f\"Test size: {len(test_dataset)}\")"
   ]
  },
  {
   "cell_type": "code",
   "execution_count": 15,
   "id": "945606bc",
   "metadata": {},
   "outputs": [
    {
     "name": "stdout",
     "output_type": "stream",
     "text": [
      "Model ready on device: cuda\n"
     ]
    }
   ],
   "source": [
    "# Load InceptionV3 pretrained on ImageNet\n",
    "model = models.inception_v3(weights=models.Inception_V3_Weights.IMAGENET1K_V1)\n",
    "\n",
    "# Freeze base layers to keep pretrained features\n",
    "for param in model.parameters():\n",
    "    param.requires_grad = False\n",
    "\n",
    "# Modify the final fully connected layer\n",
    "num_ftrs = model.fc.in_features\n",
    "model.fc = nn.Sequential(\n",
    "    nn.Linear(num_ftrs, 512),\n",
    "    nn.ReLU(),\n",
    "    nn.Dropout(0.3),\n",
    "    nn.Linear(512, 4)  # 4-class classification\n",
    ")\n",
    "\n",
    "# InceptionV3 also has an auxiliary classifier (for training stability)\n",
    "num_aux_ftrs = model.AuxLogits.fc.in_features\n",
    "model.AuxLogits.fc = nn.Linear(num_aux_ftrs, 4)\n",
    "\n",
    "# Move to device\n",
    "device = torch.device(\"cuda\" if torch.cuda.is_available() else \"cpu\")\n",
    "model = model.to(device)\n",
    "print(f\"Model ready on device: {device}\")"
   ]
  },
  {
   "cell_type": "code",
   "execution_count": 16,
   "id": "e091e6e3",
   "metadata": {},
   "outputs": [],
   "source": [
    "# Loss and optimizer\n",
    "criterion = nn.CrossEntropyLoss()\n",
    "optimizer = optim.Adam(model.fc.parameters(), lr=1e-4, weight_decay=1e-5)\n",
    "\n",
    "# Learning rate scheduler: reduce LR by 0.5 every 3 epochs\n",
    "scheduler = StepLR(optimizer, step_size=3, gamma=0.5)\n",
    "\n",
    "# Early stopping setup\n",
    "best_val_loss = float('inf')\n",
    "patience = 3\n",
    "trigger_times = 0"
   ]
  },
  {
   "cell_type": "code",
   "execution_count": 17,
   "id": "7079cdf5",
   "metadata": {},
   "outputs": [],
   "source": [
    "# Gradual unfreezing setup\n",
    "def unfreeze_layers(model, n_unfreeze_blocks=1):\n",
    "    \"\"\"\n",
    "    Unfreezes the last n_inception blocks of InceptionV3 for fine-tuning.\n",
    "    \"\"\"\n",
    "    # Each Inception block is part of the mixed modules (e.g., Mixed_5b, Mixed_6a, etc.)\n",
    "    inception_blocks = [model.Mixed_5b, model.Mixed_5c, model.Mixed_5d,\n",
    "                        model.Mixed_6a, model.Mixed_6b, model.Mixed_6c, model.Mixed_6d, model.Mixed_6e,\n",
    "                        model.Mixed_7a, model.Mixed_7b, model.Mixed_7c]\n",
    "\n",
    "    # Freeze everything first\n",
    "    for param in model.parameters():\n",
    "        param.requires_grad = False\n",
    "\n",
    "    # Unfreeze the last `n_unfreeze_blocks`\n",
    "    for block in inception_blocks[-n_unfreeze_blocks:]:\n",
    "        for param in block.parameters():\n",
    "            param.requires_grad = True\n",
    "\n",
    "    print(f\"Unfroze the last {n_unfreeze_blocks} inception blocks for fine-tuning.\")\n",
    "\n",
    "\n",
    "# Example: start frozen, unfreeze gradually\n",
    "epochs_before_unfreeze = 5  # train only the classifier for 5 epochs\n",
    "unfreeze_schedule = [1, 3, 5]  # number of inception blocks to unfreeze at milestones"
   ]
  },
  {
   "cell_type": "code",
   "execution_count": 19,
   "id": "71627716",
   "metadata": {},
   "outputs": [
    {
     "name": "stdout",
     "output_type": "stream",
     "text": [
      "\n",
      "Epoch [1/15]\n"
     ]
    },
    {
     "name": "stderr",
     "output_type": "stream",
     "text": [
      "                                                           \r"
     ]
    },
    {
     "name": "stdout",
     "output_type": "stream",
     "text": [
      "Train Loss: 1.5684 | Val Loss: 0.8210 | Val Acc: 79.34%\n",
      "\n",
      "Epoch [2/15]\n"
     ]
    },
    {
     "name": "stderr",
     "output_type": "stream",
     "text": [
      "                                                           \r"
     ]
    },
    {
     "name": "stdout",
     "output_type": "stream",
     "text": [
      "Train Loss: 1.1649 | Val Loss: 0.5932 | Val Acc: 85.79%\n",
      "\n",
      "Epoch [3/15]\n"
     ]
    },
    {
     "name": "stderr",
     "output_type": "stream",
     "text": [
      "                                                           \r"
     ]
    },
    {
     "name": "stdout",
     "output_type": "stream",
     "text": [
      "Train Loss: 0.9865 | Val Loss: 0.4629 | Val Acc: 88.43%\n",
      "\n",
      "Epoch [4/15]\n"
     ]
    },
    {
     "name": "stderr",
     "output_type": "stream",
     "text": [
      "                                                           \r"
     ]
    },
    {
     "name": "stdout",
     "output_type": "stream",
     "text": [
      "Train Loss: 0.8708 | Val Loss: 0.3751 | Val Acc: 89.75%\n",
      "\n",
      "Epoch [5/15]\n",
      "Unfroze the last 1 inception blocks for fine-tuning.\n"
     ]
    },
    {
     "name": "stderr",
     "output_type": "stream",
     "text": [
      "                                                           \r"
     ]
    },
    {
     "name": "stdout",
     "output_type": "stream",
     "text": [
      "Train Loss: 0.7205 | Val Loss: 0.2472 | Val Acc: 93.22%\n",
      "Learning rate reduced: 0.000100 → 0.000010\n",
      "\n",
      "Epoch [6/15]\n"
     ]
    },
    {
     "name": "stderr",
     "output_type": "stream",
     "text": [
      "                                                           \r"
     ]
    },
    {
     "name": "stdout",
     "output_type": "stream",
     "text": [
      "Train Loss: 0.6011 | Val Loss: 0.1844 | Val Acc: 94.05%\n",
      "\n",
      "Epoch [7/15]\n"
     ]
    },
    {
     "name": "stderr",
     "output_type": "stream",
     "text": [
      "                                                           \r"
     ]
    },
    {
     "name": "stdout",
     "output_type": "stream",
     "text": [
      "Train Loss: 0.5127 | Val Loss: 0.1451 | Val Acc: 96.86%\n",
      "\n",
      "Epoch [8/15]\n",
      "Unfroze the last 3 inception blocks for fine-tuning.\n"
     ]
    },
    {
     "name": "stderr",
     "output_type": "stream",
     "text": [
      "                                                           \r"
     ]
    },
    {
     "name": "stdout",
     "output_type": "stream",
     "text": [
      "Train Loss: 0.4431 | Val Loss: 0.0593 | Val Acc: 99.67%\n",
      "\n",
      "Epoch [9/15]\n"
     ]
    },
    {
     "name": "stderr",
     "output_type": "stream",
     "text": [
      "                                                           \r"
     ]
    },
    {
     "name": "stdout",
     "output_type": "stream",
     "text": [
      "Train Loss: 0.3440 | Val Loss: 0.0270 | Val Acc: 99.83%\n",
      "\n",
      "Epoch [10/15]\n"
     ]
    },
    {
     "name": "stderr",
     "output_type": "stream",
     "text": [
      "                                                           \r"
     ]
    },
    {
     "name": "stdout",
     "output_type": "stream",
     "text": [
      "Train Loss: 0.3058 | Val Loss: 0.0154 | Val Acc: 100.00%\n",
      "\n",
      "Epoch [11/15]\n"
     ]
    },
    {
     "name": "stderr",
     "output_type": "stream",
     "text": [
      "                                                           \r"
     ]
    },
    {
     "name": "stdout",
     "output_type": "stream",
     "text": [
      "Train Loss: 0.2938 | Val Loss: 0.0084 | Val Acc: 100.00%\n",
      "\n",
      "Epoch [12/15]\n"
     ]
    },
    {
     "name": "stderr",
     "output_type": "stream",
     "text": [
      "                                                           \r"
     ]
    },
    {
     "name": "stdout",
     "output_type": "stream",
     "text": [
      "Train Loss: 0.2692 | Val Loss: 0.0056 | Val Acc: 100.00%\n",
      "\n",
      "Epoch [13/15]\n"
     ]
    },
    {
     "name": "stderr",
     "output_type": "stream",
     "text": [
      "                                                           \r"
     ]
    },
    {
     "name": "stdout",
     "output_type": "stream",
     "text": [
      "Train Loss: 0.2742 | Val Loss: 0.0055 | Val Acc: 100.00%\n",
      "\n",
      "Epoch [14/15]\n"
     ]
    },
    {
     "name": "stderr",
     "output_type": "stream",
     "text": [
      "                                                           \r"
     ]
    },
    {
     "name": "stdout",
     "output_type": "stream",
     "text": [
      "Train Loss: 0.2696 | Val Loss: 0.0033 | Val Acc: 100.00%\n",
      "\n",
      "Epoch [15/15]\n"
     ]
    },
    {
     "name": "stderr",
     "output_type": "stream",
     "text": [
      "                                                           \r"
     ]
    },
    {
     "name": "stdout",
     "output_type": "stream",
     "text": [
      "Train Loss: 0.2649 | Val Loss: 0.0027 | Val Acc: 100.00%\n",
      "\n",
      "Training complete.\n"
     ]
    }
   ],
   "source": [
    "from tqdm import tqdm\n",
    "\n",
    "# --- Hyperparameters ---\n",
    "num_epochs = 15\n",
    "learning_rate = 1e-4\n",
    "weight_decay = 1e-5\n",
    "patience = 3  # early stopping patience\n",
    "\n",
    "# --- Optimizer and Loss ---\n",
    "criterion = nn.CrossEntropyLoss()\n",
    "optimizer = optim.Adam(model.parameters(), lr=learning_rate, weight_decay=weight_decay)\n",
    "\n",
    "# --- Learning Rate Scheduler (reduce LR when val_loss plateaus) ---\n",
    "scheduler = optim.lr_scheduler.ReduceLROnPlateau(\n",
    "    optimizer,\n",
    "    mode='min',\n",
    "    factor=0.5,       # reduce LR by half each time plateau occurs\n",
    "    patience=2,       # wait 2 epochs with no improvement before reducing LR\n",
    "    min_lr=1e-6       # lower bound on learning rate\n",
    ")\n",
    "\n",
    "# --- Tracking variables ---\n",
    "train_losses, val_losses = [], []\n",
    "best_val_loss = float('inf')\n",
    "trigger_times = 0\n",
    "prev_lr = optimizer.param_groups[0]['lr']\n",
    "\n",
    "# --- Training Loop ---\n",
    "for epoch in range(num_epochs):\n",
    "    print(f\"\\nEpoch [{epoch+1}/{num_epochs}]\")\n",
    "\n",
    "    # Gradual unfreezing trigger\n",
    "    if epoch+1 in [epochs_before_unfreeze + i*3 for i in range(len(unfreeze_schedule))]:\n",
    "        n_blocks = unfreeze_schedule.pop(0)\n",
    "        unfreeze_layers(model, n_unfreeze_blocks=n_blocks)\n",
    "        # Reinitialize optimizer to include newly trainable layers\n",
    "        optimizer = optim.Adam(filter(lambda p: p.requires_grad, model.parameters()),\n",
    "                               lr=1e-5, weight_decay=1e-5)\n",
    "\n",
    "    # ----- TRAIN -----\n",
    "    model.train()\n",
    "    running_loss = 0.0\n",
    "    for images, labels in tqdm(train_loader, desc=\"Training\", leave=False):\n",
    "        images, labels = images.to(device), labels.to(device)\n",
    "        optimizer.zero_grad()\n",
    "\n",
    "        # Forward pass — InceptionV3 gives 2 outputs during training\n",
    "        outputs, aux_outputs = model(images)\n",
    "        loss1 = criterion(outputs, labels)\n",
    "        loss2 = criterion(aux_outputs, labels)\n",
    "        loss = loss1 + 0.4 * loss2  # auxiliary loss weighted at 0.4\n",
    "\n",
    "        loss.backward()\n",
    "        optimizer.step()\n",
    "        running_loss += loss.item() * images.size(0)\n",
    "\n",
    "    epoch_train_loss = running_loss / len(train_loader.dataset)\n",
    "    train_losses.append(epoch_train_loss)\n",
    "\n",
    "    # ----- VALIDATION -----\n",
    "    model.eval()\n",
    "    val_loss = 0.0\n",
    "    correct = 0\n",
    "    total = 0\n",
    "    with torch.no_grad():\n",
    "        for images, labels in tqdm(val_loader, desc=\"Validation\", leave=False):\n",
    "            images, labels = images.to(device), labels.to(device)\n",
    "            outputs = model(images)  # only main output during eval\n",
    "            loss = criterion(outputs, labels)\n",
    "            val_loss += loss.item() * images.size(0)\n",
    "            _, predicted = torch.max(outputs, 1)\n",
    "            total += labels.size(0)\n",
    "            correct += (predicted == labels).sum().item()\n",
    "\n",
    "    epoch_val_loss = val_loss / len(val_loader.dataset)\n",
    "    val_losses.append(epoch_val_loss)\n",
    "    val_accuracy = 100 * correct / total\n",
    "\n",
    "    print(f\"Train Loss: {epoch_train_loss:.4f} | Val Loss: {epoch_val_loss:.4f} | Val Acc: {val_accuracy:.2f}%\")\n",
    "\n",
    "    # --- Early stopping ---\n",
    "    if epoch_val_loss < best_val_loss:\n",
    "        best_val_loss = epoch_val_loss\n",
    "        trigger_times = 0\n",
    "        torch.save(model.state_dict(), \"best_inceptionv3_model.pth\")\n",
    "    else:\n",
    "        trigger_times += 1\n",
    "        if trigger_times >= patience:\n",
    "            print(\"Early stopping triggered.\")\n",
    "            break\n",
    "\n",
    "    # --- Scheduler step (based on validation loss) ---\n",
    "    scheduler.step(epoch_val_loss)\n",
    "\n",
    "    # --- Check if learning rate changed ---\n",
    "    current_lr = optimizer.param_groups[0]['lr']\n",
    "    if current_lr != prev_lr:\n",
    "        print(f\"Learning rate reduced: {prev_lr:.6f} → {current_lr:.6f}\")\n",
    "        prev_lr = current_lr\n",
    "\n",
    "print(\"\\n Training complete.\")"
   ]
  },
  {
   "cell_type": "code",
   "execution_count": 20,
   "id": "22f6be03",
   "metadata": {},
   "outputs": [
    {
     "name": "stderr",
     "output_type": "stream",
     "text": [
      "Testing: 100%|██████████| 58/58 [00:20<00:00,  2.78it/s]\n"
     ]
    },
    {
     "name": "stdout",
     "output_type": "stream",
     "text": [
      "\n",
      "Classification Report:\n",
      "\n",
      "                       precision    recall  f1-score   support\n",
      "\n",
      "        History of MI       1.00      1.00      1.00       172\n",
      "   Abnormal Heartbeat       1.00      1.00      1.00       233\n",
      "Myocardial Infarction       1.00      1.00      1.00       239\n",
      "        Normal Person       1.00      1.00      1.00       284\n",
      "\n",
      "             accuracy                           1.00       928\n",
      "            macro avg       1.00      1.00      1.00       928\n",
      "         weighted avg       1.00      1.00      1.00       928\n",
      "\n"
     ]
    },
    {
     "data": {
      "image/png": "[encoded data removed]",
      "text/plain": [
       "<Figure size 800x600 with 2 Axes>"
      ]
     },
     "metadata": {},
     "output_type": "display_data"
    }
   ],
   "source": [
    "# Load best model\n",
    "model.load_state_dict(torch.load(\"best_inceptionv3_model.pth\"))\n",
    "model.eval()\n",
    "\n",
    "y_true, y_pred = [], []\n",
    "with torch.no_grad():\n",
    "    for images, labels in tqdm(test_loader, desc=\"Testing\"):\n",
    "        images, labels = images.to(device), labels.to(device)\n",
    "        outputs = model(images)\n",
    "        _, predicted = torch.max(outputs, 1)\n",
    "        y_true.extend(labels.cpu().numpy())\n",
    "        y_pred.extend(predicted.cpu().numpy())\n",
    "\n",
    "# Classification report\n",
    "print(\"\\nClassification Report:\\n\")\n",
    "print(classification_report(y_true, y_pred, target_names=[\n",
    "    \"History of MI\", \"Abnormal Heartbeat\", \"Myocardial Infarction\", \"Normal Person\"\n",
    "]))\n",
    "\n",
    "# Confusion matrix\n",
    "cm = confusion_matrix(y_true, y_pred)\n",
    "plt.figure(figsize=(8,6))\n",
    "sns.heatmap(cm, annot=True, fmt=\"d\", cmap=\"Blues\", xticklabels=[\n",
    "    \"History of MI\", \"Abnormal Heartbeat\", \"Myocardial Infarction\", \"Normal Person\"\n",
    "], yticklabels=[\n",
    "    \"History of MI\", \"Abnormal Heartbeat\", \"Myocardial Infarction\", \"Normal Person\"\n",
    "])\n",
    "plt.title(\"InceptionV3 Confusion Matrix on ECG Test Data\")\n",
    "plt.xlabel(\"Predicted\")\n",
    "plt.ylabel(\"True\")\n",
    "plt.show()"
   ]
  }
 ],
 "metadata": {
  "kernelspec": {
   "display_name": "env",
   "language": "python",
   "name": "python3"
  },
  "language_info": {
   "codemirror_mode": {
    "name": "ipython",
    "version": 3
   },
   "file_extension": ".py",
   "mimetype": "text/x-python",
   "name": "python",
   "nbconvert_exporter": "python",
   "pygments_lexer": "ipython3",
   "version": "3.11.2"
  }
 },
 "nbformat": 4,
 "nbformat_minor": 5
}
